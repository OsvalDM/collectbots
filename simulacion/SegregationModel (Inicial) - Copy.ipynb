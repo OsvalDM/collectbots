{
 "cells": [
  {
   "cell_type": "markdown",
   "id": "4c20df8c",
   "metadata": {},
   "source": [
    "# Modelo de segregación de Schelling\n",
    "\n",
    "En 1969, Thomas C. Schelling desarrolló un modelo simple pero sorprendente de segregación racial. El modelo estudia la dinámica de los barrios mixtos. Este modelo muestra cómo las interacciones locales pueden conducir a comportamiento emergente sorprendente. En particular, muestra que una preferencia relativamente leve por veciones de características similares (raza, creencia, nivel económico, etc.) puede conducir, en conjunto, al colapso de vecindarios mixtos y altos niveles de segregación.\n",
    "\n",
    "En reconocimiento a esta y otras investigaciones, Schelling recibió el Premio Nobel de Ciencias Económicas 2005 (junto con Robert Aumann)."
   ]
  },
  {
   "cell_type": "markdown",
   "id": "c6f87b81",
   "metadata": {},
   "source": [
    "## ¿Cómo trabaja el modelo?\n",
    "Supón que hay dos tipos de agentes: X y O. Los dos tipos de agentes pueden representar diferentes razas, etnias, estatus económico, etc. Dos poblaciones de los dos tipos de agentes se colocan inicialmente en ubicaciones aleatorias de un vecindario representado por una cuadrícula. Después de colocar todos los agentes en la cuadrícula, cada celda está ocupada por un agente o está vacía, como se muestra a continuación.\n",
    "<center>\n",
    "<img src=\"http://nifty.stanford.edu/2014/mccown-schelling-model-segregation/images/grid1.png\" />\n",
    "</center>\n",
    "Ahora debemos determinar si cada agente está satisfecho con su ubicación actual. Un agente satisfecho es aquel que está rodeado por al menos un *t* por ciento de agentes que son como él. Este umbral *t* es el que se aplicará a todos los agentes del modelo, aunque en realidad todos pueden tener un umbral diferente con el que están satisfechos. Tenga en cuenta que cuanto mayor sea el umbral, mayor será la probabilidad de que los agentes no estén satisfechos con su ubicación actual.\n",
    "\n",
    "Por ejemplo, si *t* = 30%, el agente *X* está satisfecho si al menos el 30% de sus vecinos también son *X*. Si menos del 30% son *X*, entonces el agente no está satisfecho y querrá cambiar su ubicación en la cuadrícula. Para el resto de esta explicación, supongamos un umbral *t* del 30%. Esto significa que a todos los agentes les parece bien estar en minoría siempre que haya al menos un 30% de agentes similares en las celdas adyacentes.\n",
    "\n",
    "La imagen de abajo (izquierda) muestra un agente satisfecho porque el 50% de los vecinos de X también son X (50%> t). La siguiente X (derecha) no se satisface porque solo el 25% de sus vecinos son X (25% <t). Observe que en este ejemplo las celdas vacías no se cuentan al calcular la similitud.\n",
    "<center>\n",
    "<img src=\"http://nifty.stanford.edu/2014/mccown-schelling-model-segregation/images/grid2.png\" />\n",
    "</center>\n",
    "Cuando un agente no está satisfecho, se puede trasladar a cualquier lugar vacante en la cuadrícula. Se puede utilizar cualquier algoritmo para elegir esta nueva ubicación. Por ejemplo, se puede elegir una celda seleccionada al azar, o el agente se puede mover a la ubicación disponible más cercana.\n",
    "\n",
    "En la imagen de abajo (izquierda), todos los agentes insatisfechos tienen un asterisco junto a ellos. La imagen de la derecha muestra la nueva configuración después de que todos los agentes insatisfechos se hayan movido al azar a celdas desocupadas. Tenga en cuenta que la nueva configuración puede hacer que algunos agentes que estaban satisfechos anteriormente se sientan insatisfechos.\n",
    "<center>\n",
    "<img src=\"http://nifty.stanford.edu/2014/mccown-schelling-model-segregation/images/grid4.png\" />\n",
    "</center>\n",
    "Todos los agentes insatisfechos deben moverse en la misma ronda. Una vez completada la ronda, comienza una nueva ronda y los agentes insatisfechos se trasladan una vez más a nuevas ubicaciones en la cuadrícula. Estas rondas continúan hasta que todos los agentes del vecindario estén satisfechos con su ubicación.\n",
    "\n",
    "<p style='text-align: right;'> Fuente: <a href=\"http://nifty.stanford.edu/2014/mccown-schelling-model-segregation/\">Schelling's Model of Segregation</a></p>"
   ]
  },
  {
   "cell_type": "markdown",
   "id": "f2104f9b",
   "metadata": {},
   "source": [
    "## Imports\n",
    "\n",
    "Antes de empezar a crear el modelo del juego de la vida con multiagentes es necesario tener instalado los siguientes paquetes:\n",
    "- `python`: asegúrense de usar la versión 3+.\n",
    "- `mesa`: el framework de Python para el modelado de agentes.\n",
    "- `numpy`: es una biblioteca de Python para el manejo de matrices, arreglos, manipulación matemática, lógica y mucho más.\n",
    "- `matplotlib`: es una biblioteca para crear visualizaciones estáticas, animadas e interactivas en Python.\n",
    "\n",
    "Para poder modelar el juego de la vida usando el framework de `mesa` es necesario importar dos clases: una para el modelo general, y otro para los agentes."
   ]
  },
  {
   "cell_type": "code",
   "execution_count": 2,
   "id": "4642ce36",
   "metadata": {},
   "outputs": [],
   "source": [
    "# Importamos las clases que se requieren para manejar los agentes (Agent) y su entorno (Model).\n",
    "# Cada modelo puede contener múltiples agentes.\n",
    "from mesa import Agent, Model \n",
    "\n",
    "# Debido a que necesitamos que existe un solo agente por celda, elegimos ''SingleGrid''.\n",
    "from mesa.space import SingleGrid\n",
    "\n",
    "# Con ''RandomActivation'', hacemos que todos los agentes se activen ''al mismo tiempo''.\n",
    "from mesa.time import RandomActivation\n",
    "\n",
    "# Haremos uso de ''DataCollector'' para obtener información de cada paso de la simulación.\n",
    "from mesa.datacollection import DataCollector\n",
    "\n",
    "# matplotlib lo usaremos crear una animación de cada uno de los pasos del modelo.\n",
    "%matplotlib inline\n",
    "import matplotlib\n",
    "import matplotlib.pyplot as plt\n",
    "import matplotlib.animation as animation\n",
    "plt.rcParams[\"animation.html\"] = \"jshtml\"\n",
    "matplotlib.rcParams['animation.embed_limit'] = 2**128\n",
    "\n",
    "# Importamos los siguientes paquetes para el mejor manejo de valores numéricos.\n",
    "import numpy as np\n",
    "import pandas as pd\n",
    "\n",
    "# Definimos otros paquetes que vamos a usar para medir el tiempo de ejecución de nuestro algoritmo.\n",
    "import time\n",
    "import datetime"
   ]
  },
  {
   "cell_type": "code",
   "execution_count": 26,
   "id": "532e9a21-413c-4795-9072-06012c4eadfa",
   "metadata": {},
   "outputs": [],
   "source": [
    "class SegregationAgent(Agent):\n",
    "    def __init__(self, id, model, type = 0, threshold = 0.30):\n",
    "        super().__init__(id, model)\n",
    "        self.type = type\n",
    "        self.threshold = threshold\n",
    "    def step(self):\n",
    "        neighbors = self.model.grid.get_neighbors(self.pos,\n",
    "                                                  moore = True,\n",
    "                                                  include_center = False)\n",
    "        count = 0\n",
    "        for agent in neighbors:\n",
    "            if agent.type == self.type:\n",
    "                count += 1\n",
    "        \n",
    "        percentage = 0\n",
    "        if len(neighbors) > 0:\n",
    "            percentage = float(count) / float(len(neighbors))\n",
    "        if percentage < self.threshold:\n",
    "            self.model.grid.move_to_empty(self)"
   ]
  },
  {
   "cell_type": "code",
   "execution_count": 27,
   "id": "32378c61-7e6b-4a24-b983-c780c8d7401c",
   "metadata": {},
   "outputs": [],
   "source": [
    "def get_grid(model):\n",
    "    grid = np.zeros( (model.grid.width, model.grid.height) )\n",
    "    for (content, (x, y)) in model.grid.coord_iter():\n",
    "        if content != None:\n",
    "            grid[x][y] = int(content.type)\n",
    "        else:\n",
    "            grid[x][y] = 2\n",
    "    return grid"
   ]
  },
  {
   "cell_type": "code",
   "execution_count": 24,
   "id": "2ce3e9f7-02e4-4b41-b679-48102a97f160",
   "metadata": {},
   "outputs": [],
   "source": [
    "class SegregationModel(Model):\n",
    "    def __init__(self, width, height, empty_cells = 0.2, threshold = 0.3):\n",
    "        self.grid = SingleGrid(width, height, torus = False)\n",
    "        self.schedule = RandomActivation(self)\n",
    "        self.datacollector = DataCollector(model_reporters = {\"Grid\": get_grid})\n",
    "\n",
    "        id = 0        \n",
    "        num_agents = int((width * height) * (1 - empty_cells))\n",
    "        while self.grid.exists_empty_cells():\n",
    "            agent = SegregationAgent(id, self, np.random.choice([0,1]),threshold)            \n",
    "            self.grid.move_to_empty(agent)\n",
    "            self.schedule.add(agent)\n",
    "            id += 1\n",
    "            if id > num_agents:\n",
    "                break\n",
    "            \n",
    "    def step(self):\n",
    "        self.datacollector.collect(self)\n",
    "        self.schedule.step()"
   ]
  },
  {
   "cell_type": "code",
   "execution_count": 49,
   "id": "4d26d3af-8b8c-4b59-af09-3138bbbccbe7",
   "metadata": {},
   "outputs": [],
   "source": [
    "GRID_SIZE = 100\n",
    "MAX_ITERATIONS = 100\n",
    "THRESHOLD = 0.6\n",
    "EMPTY_CELLS = 0.1\n",
    "\n",
    "model = SegregationModel(GRID_SIZE, GRID_SIZE, EMPTY_CELLS, THRESHOLD)\n",
    "for i in range(MAX_ITERATIONS):\n",
    "    model.step()"
   ]
  },
  {
   "cell_type": "code",
   "execution_count": 50,
   "id": "fbe8f916-2b9a-4c6d-ac0f-1da41fc749a0",
   "metadata": {},
   "outputs": [],
   "source": [
    "all_grid = model.datacollector.get_model_vars_dataframe()"
   ]
  },
  {
   "cell_type": "code",
   "execution_count": 51,
   "id": "b78656a2-d7c4-4371-930f-37b6f6ab42ee",
   "metadata": {},
   "outputs": [
    {
     "data": {
      "image/png": "[encoded data removed]",
      "text/plain": [
       "<Figure size 500x500 with 1 Axes>"
      ]
     },
     "metadata": {},
     "output_type": "display_data"
    }
   ],
   "source": [
    "fig, axis = plt.subplots(figsize=(5,5))\n",
    "axis.set_xticks([])\n",
    "axis.set_yticks([])\n",
    "patch = plt.imshow(all_grid.iloc[0][0], cmap=plt.cm.binary)\n",
    "\n",
    "def animate(i):\n",
    "  patch.set_data(all_grid.iloc[i][0])\n",
    "\n",
    "anim = animation.FuncAnimation(fig, animate, frames=MAX_ITERATIONS)"
   ]
  },
  {
   "cell_type": "code",
   "execution_count": 1,
   "id": "fa25f233-7d92-4eec-8813-d7f2fc6c05d8",
   "metadata": {},
   "outputs": [
    {
     "ename": "NameError",
     "evalue": "name 'anim' is not defined",
     "output_type": "error",
     "traceback": [
      "\u001b[1;31m---------------------------------------------------------------------------\u001b[0m",
      "\u001b[1;31mNameError\u001b[0m                                 Traceback (most recent call last)",
      "Cell \u001b[1;32mIn[1], line 1\u001b[0m\n\u001b[1;32m----> 1\u001b[0m \u001b[43manim\u001b[49m\n",
      "\u001b[1;31mNameError\u001b[0m: name 'anim' is not defined"
     ]
    }
   ],
   "source": [
    "anim"
   ]
  },
  {
   "cell_type": "code",
   "execution_count": null,
   "id": "8e460771-131b-49d8-aadb-a15b9eddbced",
   "metadata": {},
   "outputs": [],
   "source": []
  }
 ],
 "metadata": {
  "kernelspec": {
   "display_name": "Python 3 (ipykernel)",
   "language": "python",
   "name": "python3"
  },
  "language_info": {
   "codemirror_mode": {
    "name": "ipython",
    "version": 3
   },
   "file_extension": ".py",
   "mimetype": "text/x-python",
   "name": "python",
   "nbconvert_exporter": "python",
   "pygments_lexer": "ipython3",
   "version": "3.10.5"
  }
 },
 "nbformat": 4,
 "nbformat_minor": 5
}
